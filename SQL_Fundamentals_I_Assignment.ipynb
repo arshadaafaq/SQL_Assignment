{
  "nbformat": 4,
  "nbformat_minor": 0,
  "metadata": {
    "colab": {
      "provenance": []
    },
    "kernelspec": {
      "name": "python3",
      "display_name": "Python 3"
    }
  },
  "cells": [
    {
      "cell_type": "markdown",
      "metadata": {
        "id": "LSx52toYvkE0"
      },
      "source": [
        "# <b> Question 1 : Return the customer IDs of customers who have spent at least $110 with the staff member who has an ID of 2.\n"
      ]
    },
    {
      "cell_type": "code",
      "source": [
        "SELECT customer_id, SUM(amount) AS amount FROM payment\n",
        "where staff_id = 2 \n",
        "GROUP BY customer_id,staff_id\n",
        "HAVING SUM(amount) >= 110\n",
        "ORDER BY customer_id"
      ],
      "metadata": {
        "id": "qtaPS1flMVPH"
      },
      "execution_count": null,
      "outputs": []
    },
    {
      "cell_type": "markdown",
      "metadata": {
        "id": "grhpLeadvkHP"
      },
      "source": [
        "# <b> Question 2 :  How many films begin with the letter J?\n"
      ]
    },
    {
      "cell_type": "code",
      "source": [
        "SELECT COUNT(title) FROM film\n",
        "WHERE title LIKE 'J%'"
      ],
      "metadata": {
        "id": "tt2La2MtMNKD"
      },
      "execution_count": null,
      "outputs": []
    },
    {
      "cell_type": "markdown",
      "metadata": {
        "id": "7ADgnW_VvkJg"
      },
      "source": [
        "# <b> Question 3 : What customer has the highest customer ID number whose name starts with an 'E' and has an address ID lower than 500?"
      ]
    },
    {
      "cell_type": "code",
      "metadata": {
        "id": "NGneZu8nxXN9"
      },
      "source": [
        "SELECT customer_id, first_name, address_id FROM customer\n",
        "WHERE first_name LIKE 'E%'\n",
        "GROUP BY customer_id\n",
        "HAVING address_id < 500\n",
        "ORDER BY customer_id DESC"
      ],
      "execution_count": null,
      "outputs": []
    }
  ]
}